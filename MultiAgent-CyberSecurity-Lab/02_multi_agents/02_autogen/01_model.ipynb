{
 "cells": [
  {
   "cell_type": "markdown",
   "metadata": {},
   "source": [
    "在許多情況下，代理需要訪問 LLM 模型服務，例如 OpenAI、Azure OpenAI 或本地模型。由於有許多不同的提供者和不同的 API，`autogen-core` 實現了一個模型客戶端的協議，而 `autogen-ext` 則實現了一組流行模型服務的模型客戶端。AgentChat 可以使用這些模型客戶端與模型服務進行互動。"
   ]
  },
  {
   "cell_type": "markdown",
   "metadata": {},
   "source": [
    "# Models\n",
    "---\n",
    "\n",
    "In many cases, agents need access to LLM model services such as OpenAI, Azure OpenAI, or local models. Since there are many different providers with different APIs, `autogen-core` implements a protocol for model clients and `autogen-ext` implements a set of model clients for popular model services. AgentChat can use these model clients to interact with model services."
   ]
  },
  {
   "cell_type": "code",
   "execution_count": 3,
   "metadata": {},
   "outputs": [
    {
     "name": "stdout",
     "output_type": "stream",
     "text": [
      "gpt-4o-mini\n"
     ]
    }
   ],
   "source": [
    "import os\n",
    "from dotenv import load_dotenv\n",
    "\n",
    "load_dotenv()\n",
    "\n",
    "print(os.getenv('CHAT_MODEL'))"
   ]
  },
  {
   "cell_type": "code",
   "execution_count": 4,
   "metadata": {},
   "outputs": [],
   "source": [
    "import os\n",
    "from azure.ai.projects import AIProjectClient\n",
    "from azure.identity import DefaultAzureCredential\n",
    "from autogen_ext.models.openai import AzureOpenAIChatCompletionClient\n",
    "\n",
    "\n",
    "project_client = AIProjectClient.from_connection_string(\n",
    "    credential=DefaultAzureCredential(), conn_str=os.environ[\"AIPROJECT_CONNECTION_STRING\"]\n",
    ")\n",
    "\n",
    "base_url = project_client.inference.get_azure_openai_client(\n",
    "    api_version=\"2024-06-01\").base_url\n",
    "\n",
    "api_endpoint = f'https://{base_url.host}/'\n",
    "\n",
    "api_key = project_client.inference.get_azure_openai_client(\n",
    "    api_version=\"2024-06-01\").api_key\n",
    "\n",
    "deployment_name = os.environ[\"CHAT_MODEL\"]\n",
    "\n",
    "aoai_client = AzureOpenAIChatCompletionClient(\n",
    "    azure_endpoint=api_endpoint,\n",
    "    model=\"gpt-4o-mini\",\n",
    "    azure_deployment=deployment_name,\n",
    "    api_key=api_key,\n",
    "    api_version=\"2024-06-01\"\n",
    ")"
   ]
  },
  {
   "cell_type": "code",
   "execution_count": null,
   "metadata": {},
   "outputs": [],
   "source": [
    "from autogen_core.models import UserMessage\n",
    "\n",
    "\n",
    "result = await aoai_client.create([UserMessage(content=\"What is the capital of France?\", source=\"user\")])\n",
    "print(result)"
   ]
  }
 ],
 "metadata": {
  "kernelspec": {
   "display_name": ".venv",
   "language": "python",
   "name": "python3"
  },
  "language_info": {
   "codemirror_mode": {
    "name": "ipython",
    "version": 3
   },
   "file_extension": ".py",
   "mimetype": "text/x-python",
   "name": "python",
   "nbconvert_exporter": "python",
   "pygments_lexer": "ipython3",
   "version": "3.11.9"
  }
 },
 "nbformat": 4,
 "nbformat_minor": 2
}
