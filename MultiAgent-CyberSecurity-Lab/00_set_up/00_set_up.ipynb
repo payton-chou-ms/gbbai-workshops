{
 "cells": [
  {
   "cell_type": "markdown",
   "metadata": {
    "vscode": {
     "languageId": "plaintext"
    }
   },
   "source": [
    "## Environment Set-Up\n",
    "Setting up a virtual environment is a crucial step in managing your Python project's dependencies effectively. \n",
    "\n",
    "###  1. Create a Virtual Environment\n",
    "Please use Python 3.11 version for the workshop.\n",
    "\n",
    "Run the following command to create a virtual environment in your project directory. \n",
    "\n",
    "Replace `.venv` with your desired name for the virtual environment folder if needed:\n",
    "\n",
    "`python -m venv .venv`\n",
    "\n",
    "\n",
    "###  2. Activate the Virtual Environment\n",
    "Activate the virtual environment using the appropriate command for your operating system:\n",
    "- On Linux/macOS:\n",
    "\n",
    "    `source .venv/bin/activate`\n",
    "    \n",
    "- On Windows (Command Prompt)\n",
    "\n",
    "    `.venv\\Scripts\\activate\n",
    "`\n",
    "\n",
    "- On Windows (PowerShell):\n",
    "\n",
    "    `.venv\\Scripts\\Activate.ps1`\n",
    "\n",
    "###  3. Upgrade `pip`\n",
    "After activating the virtual environment, upgrade `pip` to ensure you have the latest version:\n",
    "\n",
    "`pip install --upgrade pip`\n",
    "\n",
    "###  4. Install Project Dependencies\n",
    "Use `pip` to install all the required dependencies for the project as specified in the `requirements.txt` file:\n",
    "\n",
    "`pip install -r requirements.txt`\n",
    "\n",
    "###  5. Install Azure CLI SDK\n",
    "To install the Azure CLI SDK, please visit: https://learn.microsoft.com/en-us/cli/azure/install-azure-cli\n",
    "\n",
    "### 6. Log in to Azure\n",
    "Run the following command to log in to Azure:\n",
    "`az login`"
   ]
  },
  {
   "cell_type": "code",
   "execution_count": null,
   "metadata": {},
   "outputs": [],
   "source": [
    "from dotenv import load_dotenv\n",
    "import os\n",
    "\n",
    "# Load environment variables from .env file\n",
    "load_dotenv()\n",
    "\n",
    "# Get tenant ID and subscription ID from environment variables\n",
    "tenant_id = os.getenv(\"AZURE_TENANT_ID\")\n",
    "subscription_id = os.getenv(\"AZURE_SUBSCRIPTION_ID\")\n",
    "\n",
    "if not tenant_id or not subscription_id:\n",
    "    raise ValueError(\"AZURE_TENANT_ID or AZURE_SUBSCRIPTION_ID is not set in the .env file.\")\n",
    "\n",
    "# Use the tenant ID and subscription ID to log in and set the subscription context\n",
    "! az login --tenant \"{tenant_id}\"\n",
    "! az account set --subscription \"{subscription_id}\""
   ]
  },
  {
   "cell_type": "markdown",
   "metadata": {},
   "source": [
    "## Create a project in Azure AI Foundry\n",
    "\n",
    "1. Follow the guidelines in this article (https://learn.microsoft.com/en-us/azure/ai-studio/how-to/create-projects?tabs=ai-studio). If you don't have them already, make sure to create new AI services and AI Search resources.\n",
    "\n",
    "   <Image src='docs/create_project_in_azure_ai_foundry.png'>\n",
    "\n",
    "\n",
    "2. **Obtain the Connection String**  \n",
    "   Copy the connection string from your AI Studio project. It should follow this format: `eastus.api.azureml.ms;12345678-abcd-1234-9fc6-62780b3d3e05;my-resource-group;my-project-name`\n",
    "   - Ref: You can find the connection string in the Azure AI Foundry project settings\n",
    "     - https://learn.microsoft.com/en-us/azure/ai-foundry/media/how-to/projects/project-settings.png#lightbox\n",
    "\n",
    "3. **Deploy gpt-4o-mini model**  \n",
    "   In the `Models + Endpoints` section, deploy a gpt-4o-mini model with the deoloyment name as \"gpt-4o-mini\".\n",
    "   - Note: When trying to create an Enterprise Agent in existing AI Project, if you get \"Enterprise agents is only supported when project has 1 Azure Open AI connection\"\n",
    "   - Please refer to the following issue for more details:\n",
    "     - https://github.com/Azure/azure-sdk-for-python/issues/38921\n",
    "\n",
    "4. **Set Environment Variables**  \n",
    "Ensure you set the required environment variables in `.env` file."
   ]
  },
  {
   "cell_type": "markdown",
   "metadata": {},
   "source": [
    "## (Optional) Create a TimeGEN endpoint\n",
    "\n",
    "1. **Find TimeGEN model in Model Catalog**\n",
    "\n",
    "   <Image src='docs/time_gen_1.png'>\n",
    "\n",
    "\n",
    "2. **Create an endpoint**  \n",
    "   \n",
    "   <Image src='docs/time_gen_2.png'>\n",
    "\n",
    "3. **Set Environment Variables**  \n",
    "Save endpoint and key variables in `.env` file."
   ]
  },
  {
   "cell_type": "code",
   "execution_count": 1,
   "metadata": {},
   "outputs": [
    {
     "name": "stdout",
     "output_type": "stream",
     "text": [
      "gpt-4o-mini\n"
     ]
    }
   ],
   "source": [
    "# load environment variables from the .env file\n",
    "import os\n",
    "from dotenv import load_dotenv\n",
    "\n",
    "load_dotenv()\n",
    "print(os.getenv('CHAT_MODEL'))"
   ]
  },
  {
   "cell_type": "code",
   "execution_count": null,
   "metadata": {},
   "outputs": [],
   "source": [
    "import os\n",
    "from azure.ai.projects import AIProjectClient\n",
    "from azure.identity import DefaultAzureCredential\n",
    "\n",
    "load_dotenv()\n",
    "\n",
    "# Print the connection string\n",
    "# print(\"Connection String:\", os.environ.get(\"AIPROJECT_CONNECTION_STRING\"))\n",
    "\n",
    "project_client = AIProjectClient.from_connection_string(\n",
    "    credential=DefaultAzureCredential(), conn_str=os.environ[\"AIPROJECT_CONNECTION_STRING\"]\n",
    ")\n",
    "\n",
    "connections = project_client.connections.list()\n",
    "for connection in connections:\n",
    "    print(connection)"
   ]
  },
  {
   "cell_type": "code",
   "execution_count": null,
   "metadata": {},
   "outputs": [],
   "source": [
    "from azure.ai.projects.models import ConnectionType\n",
    "\n",
    "connections = project_client.connections.list(\n",
    "    connection_type=ConnectionType.AZURE_OPEN_AI,\n",
    ")\n",
    "for connection in connections:\n",
    "    print(connection)"
   ]
  },
  {
   "cell_type": "code",
   "execution_count": 3,
   "metadata": {},
   "outputs": [
    {
     "name": "stdout",
     "output_type": "stream",
     "text": [
      "There are 5,280 feet in a mile.\n"
     ]
    }
   ],
   "source": [
    "aoai_client = project_client.inference.get_azure_openai_client(\n",
    "    api_version=\"2024-06-01\")\n",
    "\n",
    "response = aoai_client.chat.completions.create(\n",
    "    model=os.environ[\"CHAT_MODEL\"],  # Model deployment name\n",
    "    messages=[\n",
    "        {\n",
    "            \"role\": \"user\",\n",
    "            \"content\": \"How many feet are in a mile?\",\n",
    "        },\n",
    "    ],\n",
    ")\n",
    "\n",
    "print(response.choices[0].message.content)"
   ]
  },
  {
   "cell_type": "markdown",
   "metadata": {},
   "source": [
    "# List all agents"
   ]
  },
  {
   "cell_type": "code",
   "execution_count": null,
   "metadata": {},
   "outputs": [],
   "source": [
    "agent_list = project_client.agents.list_agents().data\n",
    "for _agent in agent_list:\n",
    "    print(_agent)"
   ]
  },
  {
   "cell_type": "markdown",
   "metadata": {},
   "source": [
    "# Delete all agents"
   ]
  },
  {
   "cell_type": "code",
   "execution_count": null,
   "metadata": {},
   "outputs": [],
   "source": [
    "agent_list = project_client.agents.list_agents().data\n",
    "for _agent in agent_list:\n",
    "    project_client.agents.delete_agent(_agent.id)\n",
    "    print(f'agent {_agent.name} deleted')"
   ]
  },
  {
   "cell_type": "markdown",
   "metadata": {},
   "source": [
    "# Create Agent"
   ]
  },
  {
   "cell_type": "code",
   "execution_count": null,
   "metadata": {},
   "outputs": [],
   "source": [
    "##################################\n",
    "# Original version, commented out\n",
    "##################################\n",
    "# from azure.ai.projects.models import CodeInterpreterTool\n",
    "\n",
    "\n",
    "# # Create an instance of the CodeInterpreterTool\n",
    "# code_interpreter = CodeInterpreterTool()\n",
    "\n",
    "\n",
    "# # The CodeInterpreterTool needs to be included in creation of the agent\n",
    "# agent = project_client.agents.create_agent(\n",
    "#     model=os.environ[\"CHAT_MODEL\"],\n",
    "#     name=\"code_agent\",\n",
    "#     instructions=\"You are helpful agent\",\n",
    "#     tools=code_interpreter.definitions,\n",
    "#     tool_resources=code_interpreter.resources,\n",
    "# )\n",
    "\n",
    "# print(f\"Created agent, agent ID: {agent.id}\")"
   ]
  },
  {
   "cell_type": "code",
   "execution_count": null,
   "metadata": {},
   "outputs": [],
   "source": [
    "\"\"\"\n",
    "This script checks if an agent named \"code_agent\" already exists.\n",
    "If it exists, it uses the existing agent. Otherwise, it creates a new one.\n",
    "The CodeInterpreterTool is used to define tools and resources for the agent.\n",
    "\"\"\"\n",
    "\n",
    "from azure.ai.projects.models import CodeInterpreterTool\n",
    "\n",
    "# Create an instance of the CodeInterpreterTool\n",
    "code_interpreter = CodeInterpreterTool()\n",
    "\n",
    "# Check if the agent already exists\n",
    "agents = project_client.agents.list_agents()\n",
    "\n",
    "# Parse the agents list correctly\n",
    "existing_agent = next(\n",
    "    (agent for agent in agents.data if agent.name == \"code_agent\"),\n",
    "    None\n",
    ")\n",
    "\n",
    "if existing_agent:\n",
    "    # Use the existing agent\n",
    "    agent_id = existing_agent.id\n",
    "    print(f\"Using existing agent, agent ID: {agent_id}\")\n",
    "else:\n",
    "    # Create a new agent if it doesn't exist\n",
    "    agent = project_client.agents.create_agent(\n",
    "        model=os.environ[\"CHAT_MODEL\"],\n",
    "        name=\"code_agent\",\n",
    "        instructions=\"You are helpful agent\",\n",
    "        tools=code_interpreter.definitions,\n",
    "        tool_resources=code_interpreter.resources,\n",
    "    )\n",
    "    agent_id = agent.id\n",
    "    print(f\"Created new agent, agent ID: {agent_id}\")"
   ]
  },
  {
   "cell_type": "code",
   "execution_count": null,
   "metadata": {},
   "outputs": [],
   "source": [
    "# List all agents\n",
    "agent_list = project_client.agents.list_agents().data\n",
    "for _agent in agent_list:\n",
    "    print(_agent)"
   ]
  },
  {
   "cell_type": "code",
   "execution_count": null,
   "metadata": {},
   "outputs": [],
   "source": [
    "# Create a thread to hold the conversation\n",
    "thread = project_client.agents.create_thread()\n",
    "print(f\"Created thread, thread ID: {thread.id}\")"
   ]
  },
  {
   "cell_type": "code",
   "execution_count": null,
   "metadata": {},
   "outputs": [],
   "source": [
    "# Create a message\n",
    "user_message = \"Hello\"\n",
    "message = project_client.agents.create_message(\n",
    "    thread_id=thread.id,\n",
    "    role=\"user\",\n",
    "    content=user_message,\n",
    ")\n",
    "print(f\"Created message, message ID: {message.id}, content: {message.content}\")"
   ]
  },
  {
   "cell_type": "code",
   "execution_count": null,
   "metadata": {},
   "outputs": [],
   "source": [
    "# Run the agent\n",
    "run = project_client.agents.create_and_process_run(\n",
    "    thread_id=thread.id, agent_id=agent.id)\n",
    "print(f\"Run finished with status: {run.status}\")\n",
    "\n",
    "if run.status == \"failed\":\n",
    "    print(f\"Run failed: {run.last_error}\")"
   ]
  },
  {
   "cell_type": "code",
   "execution_count": 46,
   "metadata": {},
   "outputs": [
    {
     "data": {
      "text/markdown": [
       "# Conversation\n",
       "___\n",
       "### **User** (2025-04-02 10:12:38 台北標準時間)\n",
       "Hello\n",
       "___\n",
       "### **Assistant** (2025-04-02 10:12:41 台北標準時間)\n",
       "Hello! How can I assist you today?\n",
       "___"
      ],
      "text/plain": [
       "<IPython.core.display.Markdown object>"
      ]
     },
     "metadata": {},
     "output_type": "display_data"
    }
   ],
   "source": [
    "# Display all messages in the thread\n",
    "from IPython.display import Markdown, display\n",
    "import helper\n",
    "\n",
    "messages = project_client.agents.list_messages(thread_id=thread.id)\n",
    "\n",
    "display(Markdown(helper.get_conversation_md(messages)))"
   ]
  },
  {
   "cell_type": "code",
   "execution_count": 47,
   "metadata": {},
   "outputs": [
    {
     "name": "stdout",
     "output_type": "stream",
     "text": [
      "{'object': 'list', 'data': [{'id': 'msg_bS97i56rF9thOwn8Xq1eY3Bj', 'object': 'thread.message', 'created_at': 1743559961, 'assistant_id': 'asst_70EilY9SGkIdz3hbbAqw7PnH', 'thread_id': 'thread_6Uphwat9kyg1JOhJ7540x6xX', 'run_id': 'run_eeuxMeHhH1f8eiJFhsSLQD1B', 'role': 'assistant', 'content': [{'type': 'text', 'text': {'value': 'Hello! How can I assist you today?', 'annotations': []}}], 'attachments': [], 'metadata': {}}, {'id': 'msg_EkVVa7kSceH9vyx6mWWyiNEX', 'object': 'thread.message', 'created_at': 1743559958, 'assistant_id': None, 'thread_id': 'thread_6Uphwat9kyg1JOhJ7540x6xX', 'run_id': None, 'role': 'user', 'content': [{'type': 'text', 'text': {'value': 'Hello', 'annotations': []}}], 'attachments': [], 'metadata': {}}], 'first_id': 'msg_bS97i56rF9thOwn8Xq1eY3Bj', 'last_id': 'msg_EkVVa7kSceH9vyx6mWWyiNEX', 'has_more': False}\n"
     ]
    }
   ],
   "source": [
    "print(messages)"
   ]
  },
  {
   "cell_type": "code",
   "execution_count": 48,
   "metadata": {},
   "outputs": [],
   "source": [
    "user_message = \"Could you please create a bar chart for the operating profit using the following data and provide the file to me? Company A: $1.2 million, Company B: $2.5 million, Company C: $3.0 million, Company D: $1.8 million\""
   ]
  },
  {
   "cell_type": "code",
   "execution_count": null,
   "metadata": {},
   "outputs": [],
   "source": [
    "from pathlib import Path\n",
    "\n",
    "\n",
    "thread = project_client.agents.create_thread()\n",
    "print(f\"Created thread, thread ID: {thread.id}\")\n",
    "\n",
    "# Create a message\n",
    "message = project_client.agents.create_message(\n",
    "    thread_id=thread.id,\n",
    "    role=\"user\",\n",
    "    content=user_message,\n",
    ")\n",
    "print(f\"Created message, message ID: {message.id}\")\n",
    "\n",
    "# Run the agent\n",
    "run = project_client.agents.create_and_process_run(\n",
    "    thread_id=thread.id, agent_id=agent.id)\n",
    "print(f\"Run finished with status: {run.status}\")\n",
    "\n",
    "if run.status == \"failed\":\n",
    "    # Check if you got \"Rate limit is exceeded.\", then you want to get more quota\n",
    "    print(f\"Run failed: {run.last_error}\")\n",
    "\n",
    "\n",
    "messages = project_client.agents.list_messages(thread_id=thread.id)\n",
    "display(Markdown(helper.get_conversation_md(messages)))"
   ]
  },
  {
   "cell_type": "code",
   "execution_count": null,
   "metadata": {},
   "outputs": [],
   "source": [
    "from IPython.display import Image, display\n",
    "\n",
    "\n",
    "# Generate an image file for the bar chart\n",
    "for image_content in messages.image_contents:\n",
    "    print(f\"Image File ID: {image_content.image_file.file_id}\")\n",
    "    file_name = f\"{image_content.image_file.file_id}_image_file.png\"\n",
    "    project_client.agents.save_file(\n",
    "        file_id=image_content.image_file.file_id, file_name=file_name)\n",
    "    print(f\"Saved image file to: {Path.cwd() / file_name}\")\n",
    "\n",
    "# Print the file path(s) from the messages\n",
    "for file_path_annotation in messages.file_path_annotations:\n",
    "    print(f\"File Paths:\")\n",
    "    print(f\"Type: {file_path_annotation.type}\")\n",
    "    print(f\"Text: {file_path_annotation.text}\")\n",
    "    print(f\"File ID: {file_path_annotation.file_path.file_id}\")\n",
    "    print(f\"Start Index: {file_path_annotation.start_index}\")\n",
    "    print(f\"End Index: {file_path_annotation.end_index}\")\n",
    "    \n",
    "    saved_file_name = Path(file_path_annotation.text).name\n",
    "    project_client.agents.save_file(\n",
    "        file_id=file_path_annotation.file_path.file_id, file_name=saved_file_name)\n",
    "    display(Image(filename=saved_file_name))\n"
   ]
  }
 ],
 "metadata": {
  "kernelspec": {
   "display_name": ".venv",
   "language": "python",
   "name": "python3"
  },
  "language_info": {
   "codemirror_mode": {
    "name": "ipython",
    "version": 3
   },
   "file_extension": ".py",
   "mimetype": "text/x-python",
   "name": "python",
   "nbconvert_exporter": "python",
   "pygments_lexer": "ipython3",
   "version": "3.11.9"
  }
 },
 "nbformat": 4,
 "nbformat_minor": 2
}
