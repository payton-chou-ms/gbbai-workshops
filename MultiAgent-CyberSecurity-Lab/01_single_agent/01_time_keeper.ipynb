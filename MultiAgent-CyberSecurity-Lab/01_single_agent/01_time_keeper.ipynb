{
 "cells": [
  {
   "cell_type": "markdown",
   "metadata": {
    "vscode": {
     "languageId": "plaintext"
    }
   },
   "source": [
    "# Agent 1: Time Keeper\n",
    "\n",
    "In this multi-agent system, **`TimeKeeper`** is a precision-driven AI agent designed to provide accurate and real-time time information whenever needed. "
   ]
  },
  {
   "cell_type": "code",
   "execution_count": 1,
   "metadata": {},
   "outputs": [
    {
     "data": {
      "text/plain": [
       "True"
      ]
     },
     "execution_count": 1,
     "metadata": {},
     "output_type": "execute_result"
    }
   ],
   "source": [
    "# load environment variables from the .env file\n",
    "from dotenv import load_dotenv\n",
    "\n",
    "load_dotenv()"
   ]
  },
  {
   "cell_type": "markdown",
   "metadata": {},
   "source": [
    "## Define user tools"
   ]
  },
  {
   "cell_type": "code",
   "execution_count": null,
   "metadata": {},
   "outputs": [],
   "source": [
    "import json\n",
    "import datetime\n",
    "from typing import Any, Callable, Set, Optional\n",
    "\n",
    "\n",
    "def fetch_current_datetime(format: Optional[str] = None) -> str:\n",
    "    \"\"\"\n",
    "    Get the current time as a JSON string, optionally formatted.\n",
    "\n",
    "    :param format (Optional[str]): The format in which to return the current time. Defaults to None, which uses a standard format.\n",
    "    \n",
    "    :return: The current time in JSON format.\n",
    "    \n",
    "    :rtype: str\n",
    "    \"\"\"\n",
    "    current_time = datetime.datetime.now()\n",
    "\n",
    "    # Use the provided format if available, else use a default format\n",
    "    if format:\n",
    "        time_format = format\n",
    "    else:\n",
    "        time_format = \"%Y-%m-%d %H:%M:%S\"\n",
    "\n",
    "    time_json = json.dumps(\n",
    "        {\"current_time\": current_time.strftime(time_format)})\n",
    "    return time_json\n",
    "\n",
    "\n",
    "# Example usage\n",
    "result = fetch_current_datetime()\n",
    "print(result)"
   ]
  },
  {
   "cell_type": "markdown",
   "metadata": {},
   "source": [
    "## Create Agent"
   ]
  },
  {
   "cell_type": "code",
   "execution_count": 3,
   "metadata": {},
   "outputs": [],
   "source": [
    "import os\n",
    "from azure.ai.projects import AIProjectClient\n",
    "from azure.identity import DefaultAzureCredential\n",
    "\n",
    "\n",
    "project_client = AIProjectClient.from_connection_string(\n",
    "    credential=DefaultAzureCredential(), conn_str=os.environ[\"AIPROJECT_CONNECTION_STRING\"]\n",
    ")"
   ]
  },
  {
   "cell_type": "code",
   "execution_count": null,
   "metadata": {},
   "outputs": [
    {
     "name": "stdout",
     "output_type": "stream",
     "text": [
      "[{'type': 'function', 'function': {'name': 'fetch_current_datetime', 'description': 'Get the current time as a JSON string, optionally formatted.', 'parameters': {'type': 'object', 'properties': {'format': {'type': ['string', 'null'], 'description': 'The format in which to return the current time. Defaults to None, which uses a standard format.'}}, 'required': []}}}]\n"
     ]
    }
   ],
   "source": [
    "from typing import Any, Set, Callable\n",
    "from azure.ai.projects.models import FunctionTool\n",
    "\n",
    "user_functions: Set[Callable[..., Any]] = {fetch_current_datetime}\n",
    "functions = FunctionTool(functions=user_functions)\n",
    "print(functions.definitions)"
   ]
  },
  {
   "cell_type": "markdown",
   "metadata": {},
   "source": [
    "TimeKeeper 角色定義:\n",
    "<pre>\n",
    "TimeKeeper：專業時間管理 AI\n",
    "TimeKeeper 是一款專門提供準確、即時時間資訊的 AI 代理。其主要職責是作為可靠的時間來源，確保使用者與系統能夠隨時獲取精確到秒的當前時間資訊。\n",
    "TimeKeeper 可根據不同需求調整時間格式，以適應各種使用場景與技術要求。\n",
    "\n",
    "核心功能\n",
    "1. 提供當前時間\n",
    "根據使用者指定的時區或系統預設時區，提供當前時間。\n",
    "\n",
    "確保時間精確到秒，不會有時間誤差。\n",
    "\n",
    "2. 格式化時間輸出\n",
    "支持多種時間格式，包括但不限於：\n",
    "\n",
    "12 小時制（例如：\"2:30 PM\"）。\n",
    "\n",
    "24 小時制（例如：\"14:30\"）。\n",
    "\n",
    "ISO 8601 標準格式（例如：\"2023-10-12T14:30:00Z\"）。\n",
    "\n",
    "Unix 時間戳（例如：\"1697111400\"）。\n",
    "\n",
    "預設格式：如果沒有指定格式，則使用標準 24 小時制並帶有日期（例如：\"2023-10-12 14:30:00\"）。\n",
    "\n",
    "3. 時區自訂\n",
    "可提供任何指定時區的時間資訊（例如：\"UTC\"、\"EST\"、\"PST\"）。\n",
    "\n",
    "若未指定時區，則預設使用系統本地時區。\n",
    "\n",
    "4. 錯誤處理\n",
    "若輸入無效的時區、格式或計算請求，TimeKeeper 會提供清晰的錯誤訊息或替代建議，以確保使用者獲取正確資訊。\n",
    "\n",
    "目標\n",
    "TimeKeeper 的最終目標是提供 準確、可靠且符合使用者需求的時間資訊。不論是技術應用還是日常使用，\n",
    "TimeKeeper 都能確保時間數據的 清晰、精確且靈活可調。\n",
    "<pre>"
   ]
  },
  {
   "cell_type": "code",
   "execution_count": 5,
   "metadata": {},
   "outputs": [
    {
     "name": "stdout",
     "output_type": "stream",
     "text": [
      "Created agent, agent ID: asst_Vjl7RotoXkMazGZug6MTsylS\n"
     ]
    }
   ],
   "source": [
    "instruction = \"\"\"\n",
    "# Role\n",
    "You are TimeKeeper, a specialized AI agent designed to provide accurate and real-time time information. Your primary responsibility is to serve as a reliable and precise source for current time data, ensuring users and systems can access the exact time whenever needed. You are adaptable and capable of formatting the time output to suit various user needs or technical requirements.\n",
    "\n",
    "# Tasks\n",
    "1. **Provide Current Time**:\n",
    "    - Always return the current time based on the user's specified timezone or system default timezone.\n",
    "    - Ensure the time is accurate to the second.\n",
    "\n",
    "2. **Format Time Output**:\n",
    "    - Support multiple time formats based on user requests, such as:\n",
    "        - 12-hour format (e.g., \"2:30 PM\").\n",
    "        - 24-hour format (e.g., \"14:30\").\n",
    "        - ISO 8601 format (e.g., \"2023-10-12T14:30:00Z\").\n",
    "        - Unix timestamp (e.g., \"1697111400\").\n",
    "    - If no format is specified, default to a standard 24-hour format with the date (e.g., \"2023-10-12 14:30:00\").\n",
    "\n",
    "3. **Timezone Customization**:\n",
    "    - Provide time information for any specified timezone (e.g., \"UTC\", \"EST\", \"PST\").\n",
    "    - If no timezone is specified, default to the system's local timezone.\n",
    "\n",
    "4. **Error Handling**:\n",
    "    - Handle invalid timezones, formats, or calculation requests gracefully by providing clear error messages or alternative suggestions.\n",
    "\n",
    "# Goal\n",
    "Your ultimate goal is to provide **accurate, reliable, and user-friendly time information** for any request. Ensure clarity, precision, and adaptability in your responses to meet the varying needs of users and systems.\n",
    "\"\"\"\n",
    "\n",
    "time_keeper = project_client.agents.create_agent(\n",
    "    model=os.environ[\"CHAT_MODEL\"],\n",
    "    name=\"time_keeper\",\n",
    "    description=\"An AI agent specialized in providing accurate and real-time time information.\",\n",
    "    instructions=instruction,\n",
    "    tools=functions.definitions,\n",
    "    # Parameters\n",
    "    temperature=0.7,\n",
    "    top_p=0.95,\n",
    "    # Metadata\n",
    "    metadata={\"group\": \"internet_threat_analysis\"},\n",
    ")\n",
    "\n",
    "print(f\"Created agent, agent ID: {time_keeper.id}\")"
   ]
  },
  {
   "cell_type": "code",
   "execution_count": null,
   "metadata": {},
   "outputs": [
    {
     "name": "stdout",
     "output_type": "stream",
     "text": [
      "Created thread, ID: thread_Hj4ndKUGgCsktP5RZi3tS8fo\n",
      "Created message, ID: msg_VXEpcPrN9gSTKOJ9LVV3LZmF\n",
      "Created run, ID: run_N5rwAEJp2By432bYS7OCK1kD\n",
      "Executing tool call: {'id': 'call_xuDISrc1aIly6G1Rsccs5LvT', 'type': 'function', 'function': {'name': 'fetch_current_datetime', 'arguments': '{}'}}\n",
      "Tool outputs: [{'tool_call_id': 'call_xuDISrc1aIly6G1Rsccs5LvT', 'output': '{\"current_time\": \"2025-04-02 10:31:23\"}'}]\n",
      "Current run status: RunStatus.REQUIRES_ACTION\n",
      "Current run status: RunStatus.COMPLETED\n",
      "Run completed with status: RunStatus.COMPLETED\n"
     ]
    }
   ],
   "source": [
    "import time\n",
    "from azure.ai.projects.models import RequiredFunctionToolCall, SubmitToolOutputsAction, ToolOutput\n",
    "\n",
    "\n",
    "agent_id = time_keeper.id\n",
    "\n",
    "\n",
    "thread = project_client.agents.create_thread()\n",
    "print(f\"Created thread, ID: {thread.id}\")\n",
    "\n",
    "# Create message to thread\n",
    "message = project_client.agents.create_message(\n",
    "    thread_id=thread.id, role=\"user\", content=\"Hello, what time is it now?\"\n",
    ")\n",
    "print(f\"Created message, ID: {message.id}\")\n",
    "\n",
    "# Create and process assistant run in thread with tools\n",
    "run = project_client.agents.create_run(\n",
    "    thread_id=thread.id, assistant_id=agent_id)\n",
    "print(f\"Created run, ID: {run.id}\")\n",
    "\n",
    "# Continuously check the status of the run until it is completed or requires action\n",
    "while run.status in [\"queued\", \"in_progress\", \"requires_action\"]:\n",
    "    time.sleep(1)  # Wait for 1 second before checking the status again\n",
    "    run = project_client.agents.get_run(thread_id=thread.id, run_id=run.id)\n",
    "\n",
    "    # If the run requires action and the action is to submit tool outputs\n",
    "    if run.status == \"requires_action\" and isinstance(run.required_action, SubmitToolOutputsAction):\n",
    "        tool_calls = run.required_action.submit_tool_outputs.tool_calls\n",
    "        if not tool_calls:\n",
    "            # If no tool calls are provided, cancel the run\n",
    "            print(\"No tool calls provided - cancelling run\")\n",
    "            project_client.agents.cancel_run(\n",
    "                thread_id=thread.id, run_id=run.id)\n",
    "            break\n",
    "\n",
    "        tool_outputs = []\n",
    "        # Process each tool call\n",
    "        for tool_call in tool_calls:\n",
    "            if isinstance(tool_call, RequiredFunctionToolCall):\n",
    "                try:\n",
    "                    print(f\"Executing tool call: {tool_call}\")\n",
    "                    # Execute the tool call using the defined functions\n",
    "                    output = functions.execute(tool_call)\n",
    "                    tool_outputs.append(\n",
    "                        ToolOutput(\n",
    "                            tool_call_id=tool_call.id,\n",
    "                            output=output,\n",
    "                        )\n",
    "                    )\n",
    "                except Exception as e:\n",
    "                    # Handle any errors during tool call execution\n",
    "                    print(f\"Error executing tool_call {tool_call.id}: {e}\")\n",
    "\n",
    "        print(f\"Tool outputs: {tool_outputs}\")\n",
    "        if tool_outputs:\n",
    "            # Submit the tool outputs back to the run\n",
    "            project_client.agents.submit_tool_outputs_to_run(\n",
    "                thread_id=thread.id, run_id=run.id, tool_outputs=tool_outputs\n",
    "            )\n",
    "\n",
    "    # Print the current status of the run\n",
    "    print(f\"Current run status: {run.status}\")\n",
    "\n",
    "print(f\"Run completed with status: {run.status}\")\n"
   ]
  },
  {
   "cell_type": "code",
   "execution_count": 7,
   "metadata": {},
   "outputs": [
    {
     "data": {
      "text/markdown": [
       "# Conversation\n",
       "___\n",
       "### **User** (2025-04-02 10:31:21 台北標準時間)\n",
       "Hello, what time is it now?\n",
       "___\n",
       "### **Assistant** (2025-04-02 10:31:26 台北標準時間)\n",
       "The current time is **2025-04-02 10:31:23**.\n",
       "___"
      ],
      "text/plain": [
       "<IPython.core.display.Markdown object>"
      ]
     },
     "metadata": {},
     "output_type": "display_data"
    }
   ],
   "source": [
    "from IPython.display import Markdown, display\n",
    "import helper\n",
    "\n",
    "messages = project_client.agents.list_messages(thread_id=thread.id)\n",
    "\n",
    "display(Markdown(helper.get_conversation_md(messages)))"
   ]
  },
  {
   "cell_type": "code",
   "execution_count": 8,
   "metadata": {},
   "outputs": [
    {
     "data": {
      "text/plain": [
       "{'object': 'list', 'data': [{'id': 'msg_rd9jGLG1dNAiHiuB3sXJ8fbK', 'object': 'thread.message', 'created_at': 1743561086, 'assistant_id': 'asst_Vjl7RotoXkMazGZug6MTsylS', 'thread_id': 'thread_Hj4ndKUGgCsktP5RZi3tS8fo', 'run_id': 'run_N5rwAEJp2By432bYS7OCK1kD', 'role': 'assistant', 'content': [{'type': 'text', 'text': {'value': 'The current time is **2025-04-02 10:31:23**.', 'annotations': []}}], 'attachments': [], 'metadata': {}}, {'id': 'msg_VXEpcPrN9gSTKOJ9LVV3LZmF', 'object': 'thread.message', 'created_at': 1743561081, 'assistant_id': None, 'thread_id': 'thread_Hj4ndKUGgCsktP5RZi3tS8fo', 'run_id': None, 'role': 'user', 'content': [{'type': 'text', 'text': {'value': 'Hello, what time is it now?', 'annotations': []}}], 'attachments': [], 'metadata': {}}], 'first_id': 'msg_rd9jGLG1dNAiHiuB3sXJ8fbK', 'last_id': 'msg_VXEpcPrN9gSTKOJ9LVV3LZmF', 'has_more': False}"
      ]
     },
     "execution_count": 8,
     "metadata": {},
     "output_type": "execute_result"
    }
   ],
   "source": [
    "messages"
   ]
  }
 ],
 "metadata": {
  "kernelspec": {
   "display_name": ".venv",
   "language": "python",
   "name": "python3"
  },
  "language_info": {
   "codemirror_mode": {
    "name": "ipython",
    "version": 3
   },
   "file_extension": ".py",
   "mimetype": "text/x-python",
   "name": "python",
   "nbconvert_exporter": "python",
   "pygments_lexer": "ipython3",
   "version": "3.11.9"
  }
 },
 "nbformat": 4,
 "nbformat_minor": 2
}
