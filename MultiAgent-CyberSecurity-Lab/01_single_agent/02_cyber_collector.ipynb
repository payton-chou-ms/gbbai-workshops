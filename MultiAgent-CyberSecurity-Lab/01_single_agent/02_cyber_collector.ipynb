{
 "cells": [
  {
   "cell_type": "markdown",
   "metadata": {},
   "source": [
    "# Agent 2: Cyber Collector\n",
    "\n",
    "In this multi-agent system, **`Cyber Collector`** serves as the first agent for information collection and organization, with its main task being to provide high-quality, structured information input for subsequent agents."
   ]
  },
  {
   "cell_type": "code",
   "execution_count": 10,
   "metadata": {},
   "outputs": [
    {
     "data": {
      "text/plain": [
       "True"
      ]
     },
     "execution_count": 10,
     "metadata": {},
     "output_type": "execute_result"
    }
   ],
   "source": [
    "# load environment variables from the .env file\n",
    "from dotenv import load_dotenv\n",
    "\n",
    "load_dotenv()"
   ]
  },
  {
   "cell_type": "code",
   "execution_count": 11,
   "metadata": {},
   "outputs": [],
   "source": [
    "import os\n",
    "from azure.ai.projects import AIProjectClient\n",
    "from azure.identity import DefaultAzureCredential\n",
    "\n",
    "\n",
    "project_client = AIProjectClient.from_connection_string(\n",
    "    credential=DefaultAzureCredential(), conn_str=os.environ[\"AIPROJECT_CONNECTION_STRING\"]\n",
    ")"
   ]
  },
  {
   "cell_type": "markdown",
   "metadata": {},
   "source": [
    "## Define knowledge base"
   ]
  },
  {
   "cell_type": "code",
   "execution_count": 12,
   "metadata": {},
   "outputs": [
    {
     "name": "stdout",
     "output_type": "stream",
     "text": [
      "Uploaded file, file ID: assistant-AjfWW2aiDbjWkHGCnxwZ2q\n",
      "Created vector store, vector store ID: vs_Ole0P3cnMhD8llgF1JNo9ZEs\n"
     ]
    }
   ],
   "source": [
    "# Upload file and create vector store\n",
    "file = project_client.agents.upload_file_and_poll(\n",
    "    file_path=\"./data/cyber_security_framework.md\", purpose=\"assistants\")\n",
    "print(f\"Uploaded file, file ID: {file.id}\")\n",
    "\n",
    "vector_store = project_client.agents.create_vector_store_and_poll(\n",
    "    file_ids=[file.id], name=\"my_vectorstore\")\n",
    "print(f\"Created vector store, vector store ID: {vector_store.id}\")"
   ]
  },
  {
   "cell_type": "markdown",
   "metadata": {},
   "source": [
    "## Create Agent"
   ]
  },
  {
   "cell_type": "code",
   "execution_count": 13,
   "metadata": {},
   "outputs": [
    {
     "name": "stdout",
     "output_type": "stream",
     "text": [
      "Created agent, agent ID: asst_fBZqcSLGQdT9StdR0OPTAxLk\n"
     ]
    }
   ],
   "source": [
    "from azure.ai.projects.models import (\n",
    "    FileSearchTool,\n",
    ")\n",
    "\n",
    "# Create file search tool with resources followed by creating agent\n",
    "file_search = FileSearchTool(vector_store_ids=[vector_store.id])\n",
    "\n",
    "cyber_collector = project_client.agents.create_agent(\n",
    "    model=os.environ[\"CHAT_MODEL\"],\n",
    "    name=\"cyber_collector\",\n",
    "    description=\"The cyber collector can collect information about cyber security from its knowledge base.\",\n",
    "    instructions=\"Hello, you are helpful assistant and can search information from uploaded files.\",\n",
    "    tools=file_search.definitions,\n",
    "    tool_resources=file_search.resources,\n",
    "    # Parameters\n",
    "    temperature=0.7,\n",
    "    top_p=0.95,\n",
    "    # Metadata\n",
    "    metadata={\"group\": \"internet_threat_analysis\"},\n",
    ")\n",
    "\n",
    "print(f\"Created agent, agent ID: {cyber_collector.id}\")"
   ]
  },
  {
   "cell_type": "code",
   "execution_count": 14,
   "metadata": {},
   "outputs": [
    {
     "name": "stdout",
     "output_type": "stream",
     "text": [
      "Created thread, ID: thread_nI8vk1kNTYAHSLUpDMZByWVG\n",
      "Created message, ID: msg_w0MjHlgBHFLeMm1JmYZan7h9\n",
      "Run finished with status: RunStatus.COMPLETED\n"
     ]
    }
   ],
   "source": [
    "agent_id = cyber_collector.id\n",
    "\n",
    "thread = project_client.agents.create_thread()\n",
    "print(f\"Created thread, ID: {thread.id}\")\n",
    "\n",
    "# Create message to thread\n",
    "message = project_client.agents.create_message(\n",
    "    thread_id=thread.id, role=\"user\", content=\"Retrieve the latest threat information for cybersecurity\"\n",
    ")\n",
    "print(f\"Created message, ID: {message.id}\")\n",
    "\n",
    "# Create and process assistant run in thread with tools\n",
    "run = project_client.agents.create_and_process_run(\n",
    "    thread_id=thread.id, assistant_id=agent_id)\n",
    "print(f\"Run finished with status: {run.status}\")\n",
    "\n",
    "if run.status == \"failed\":\n",
    "    print(f\"Run failed: {run.last_error}\")"
   ]
  },
  {
   "cell_type": "code",
   "execution_count": 15,
   "metadata": {},
   "outputs": [
    {
     "data": {
      "text/markdown": [
       "# Conversation\n",
       "___\n",
       "### **User** (2025-04-02 11:00:44 台北標準時間)\n",
       "Retrieve the latest threat information for cybersecurity\n",
       "___\n",
       "### **Assistant** (2025-04-02 11:00:48 台北標準時間)\n",
       "The latest threat information for cybersecurity includes various Key Performance Indicators (KPIs) that organizations are monitoring to assess their security posture. Key metrics include:\n",
       "\n",
       "1. **Intrusion Attempts**: Tracking unauthorized access attempts to identify patterns and vulnerabilities.\n",
       "2. **Incident Detection Rate**: Measuring the percentage of security threats successfully identified by monitoring systems.\n",
       "3. **Mean Time to Detect/Mean Time to Respond (MTTD/MTTR)**: Evaluating how quickly incidents are detected and responded to.\n",
       "4. **Data Breach Volume**: Assessing the quantity and sensitivity of compromised information.\n",
       "5. **Patch Compliance**: Monitoring the implementation of security patches across the infrastructure.\n",
       "6. **Vulnerability Management**: Tracking identified vulnerabilities and their remediation progress.\n",
       "\n",
       "These metrics are essential for organizations to strengthen their security measures and enhance their defensive capabilities【4:0†source】.\n",
       "___"
      ],
      "text/plain": [
       "<IPython.core.display.Markdown object>"
      ]
     },
     "metadata": {},
     "output_type": "display_data"
    }
   ],
   "source": [
    "# Display all messages in the thread\n",
    "from IPython.display import Markdown, display\n",
    "import helper\n",
    "\n",
    "messages = project_client.agents.list_messages(thread_id=thread.id)\n",
    "\n",
    "display(Markdown(helper.get_conversation_md(messages)))"
   ]
  },
  {
   "cell_type": "code",
   "execution_count": 16,
   "metadata": {},
   "outputs": [
    {
     "name": "stdout",
     "output_type": "stream",
     "text": [
      "{'type': 'file_citation', 'text': '【4:0†source】', 'start_index': 967, 'end_index': 979, 'file_citation': {'file_id': 'assistant-AjfWW2aiDbjWkHGCnxwZ2q'}}\n"
     ]
    }
   ],
   "source": [
    "# Print citations from the messages\n",
    "for citation in messages.file_citation_annotations:\n",
    "    print(citation)"
   ]
  },
  {
   "cell_type": "code",
   "execution_count": 18,
   "metadata": {},
   "outputs": [
    {
     "name": "stdout",
     "output_type": "stream",
     "text": [
      "[{'type': 'text', 'text': {'value': 'The latest threat information for cybersecurity includes various Key Performance Indicators (KPIs) that organizations are monitoring to assess their security posture. Key metrics include:\\n\\n1. **Intrusion Attempts**: Tracking unauthorized access attempts to identify patterns and vulnerabilities.\\n2. **Incident Detection Rate**: Measuring the percentage of security threats successfully identified by monitoring systems.\\n3. **Mean Time to Detect/Mean Time to Respond (MTTD/MTTR)**: Evaluating how quickly incidents are detected and responded to.\\n4. **Data Breach Volume**: Assessing the quantity and sensitivity of compromised information.\\n5. **Patch Compliance**: Monitoring the implementation of security patches across the infrastructure.\\n6. **Vulnerability Management**: Tracking identified vulnerabilities and their remediation progress.\\n\\nThese metrics are essential for organizations to strengthen their security measures and enhance their defensive capabilities【4:0†source】.', 'annotations': [{'type': 'file_citation', 'text': '【4:0†source】', 'start_index': 967, 'end_index': 979, 'file_citation': {'file_id': 'assistant-AjfWW2aiDbjWkHGCnxwZ2q'}}]}}]\n",
      "[{'type': 'text', 'text': {'value': 'Retrieve the latest threat information for cybersecurity', 'annotations': []}}]\n"
     ]
    }
   ],
   "source": [
    "# Get messages from the thread\n",
    "messages = project_client.agents.list_messages(thread_id=thread.id)\n",
    "message_data = project_client.agents.list_messages(thread_id=thread.id).data\n",
    "for msg in message_data:\n",
    "    print(msg.content)"
   ]
  },
  {
   "cell_type": "code",
   "execution_count": 9,
   "metadata": {},
   "outputs": [
    {
     "name": "stdout",
     "output_type": "stream",
     "text": [
      "Deleted vector store\n",
      "Deleted file\n",
      "Deleted agent\n"
     ]
    }
   ],
   "source": [
    "# Delete the file when done\n",
    "project_client.agents.delete_vector_store(vector_store.id)\n",
    "print(\"Deleted vector store\")\n",
    "\n",
    "project_client.agents.delete_file(file_id=file.id)\n",
    "print(\"Deleted file\")\n",
    "\n",
    "# Delete the agent when done\n",
    "project_client.agents.delete_agent(agent_id)\n",
    "print(\"Deleted agent\")"
   ]
  }
 ],
 "metadata": {
  "kernelspec": {
   "display_name": ".venv",
   "language": "python",
   "name": "python3"
  },
  "language_info": {
   "codemirror_mode": {
    "name": "ipython",
    "version": 3
   },
   "file_extension": ".py",
   "mimetype": "text/x-python",
   "name": "python",
   "nbconvert_exporter": "python",
   "pygments_lexer": "ipython3",
   "version": "3.11.9"
  }
 },
 "nbformat": 4,
 "nbformat_minor": 2
}
